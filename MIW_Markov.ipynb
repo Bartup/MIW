{
  "nbformat": 4,
  "nbformat_minor": 0,
  "metadata": {
    "colab": {
      "provenance": [],
      "authorship_tag": "ABX9TyOaACF8DUZ2g3g9RhbTSJOG",
      "include_colab_link": true
    },
    "kernelspec": {
      "name": "python3",
      "display_name": "Python 3"
    },
    "language_info": {
      "name": "python"
    }
  },
  "cells": [
    {
      "cell_type": "markdown",
      "metadata": {
        "id": "view-in-github",
        "colab_type": "text"
      },
      "source": [
        "<a href=\"https://colab.research.google.com/github/Bartup/MIW/blob/main/MIW_Markov.ipynb\" target=\"_parent\"><img src=\"https://colab.research.google.com/assets/colab-badge.svg\" alt=\"Open In Colab\"/></a>"
      ]
    },
    {
      "cell_type": "code",
      "execution_count": null,
      "metadata": {
        "colab": {
          "base_uri": "https://localhost:8080/",
          "height": 35
        },
        "id": "tgon_p8-6jjW",
        "outputId": "78be8c5b-4b74-43a6-ebe6-dfd033785ba9"
      },
      "outputs": [
        {
          "output_type": "execute_result",
          "data": {
            "text/plain": [
              "'kota'"
            ],
            "application/vnd.google.colaboratory.intrinsic+json": {
              "type": "string"
            }
          },
          "metadata": {},
          "execution_count": 1
        }
      ],
      "source": [
        "import numpy as np\n",
        "np.random.choice(['ala','ma','kota'], p=[1/3,1/3,1/3])"
      ]
    },
    {
      "cell_type": "code",
      "source": [
        "import matplotlib.pyplot as plt"
      ],
      "metadata": {
        "id": "ouL_OF3iDFz5"
      },
      "execution_count": null,
      "outputs": []
    },
    {
      "cell_type": "markdown",
      "metadata": {
        "id": "D9OjkmUsObVU"
      },
      "source": [
        "#Projekt 1\n",
        "##1. Napisz program, uczący się gry “papier, kamień, nożyce”. Jako algorytm uczący zastosuj łańcuch Markowa z macierzą przejść pomiędzy trzema stanami (Papier, Kamień, Nożyce). Nauka gry polega na korekcie macierzy przejść (prawdopodobieństwa warunkowe zmiany stanu),\n",
        "##2. Wartość wypłaty: 1 w przypadku wygranej, −1 w przypadku przegranej i 0 w przypadku remisu,\n",
        "##3. Przeprowadź ciąg kilkudziesięciu gier “kamień, papier, nożyce”. Sporząź wykres jak zmienia się stan kasy w każdym kroku gry."
      ]
    },
    {
      "cell_type": "code",
      "source": [
        "kamien_prob = 1/3\n",
        "papier_prob = 1/3\n",
        "nozyce_prob = 1/3\n",
        "\n",
        "historia_a = [0]\n",
        "historia_b = [0]\n",
        "\n",
        "konto_a = 0\n",
        "konto_b = 0\n",
        "\n",
        "def kto_wygral(symbol_a, symbol_b):\n",
        "  if (symbol_a == 'kamien'):\n",
        "    if (symbol_b == 'kamien'):\n",
        "      return 'remis'\n",
        "    if symbol_b == 'papier':\n",
        "      return 'a'\n",
        "    if symbol_b == 'nozyce':\n",
        "      return 'b'\n",
        "\n",
        "  if (symbol_a == 'papier'):\n",
        "    if (symbol_b == 'kamien'):\n",
        "      return 'a'\n",
        "    if symbol_b == 'papier':\n",
        "      return 'remis'\n",
        "    if symbol_b == 'nozyce':\n",
        "      return 'b'\n",
        "\n",
        "  if (symbol_a == 'nozyce'):\n",
        "    if (symbol_b == 'kamien'):\n",
        "      return 'b'\n",
        "    if symbol_b == 'papier':\n",
        "      return 'a'\n",
        "    if symbol_b == 'nozyce':\n",
        "      return 'remis'\n",
        "\n",
        "for n in range(5):\n",
        "  symbol_a = np.random.choice(['kamien', 'papier', 'nozyce'], p=[kamien_prob, papier_prob, nozyce_prob])\n",
        "  symbol_b = input('Enter kamien papier or nozyce: ')\n",
        "\n",
        "  print('A: ', symbol_a)\n",
        "  print('B: ', symbol_b)\n",
        "\n",
        "  wynik = kto_wygral(symbol_a, symbol_b)\n",
        "  print('Wynik: ', wynik)\n",
        "\n",
        "  if wynik == 'a':\n",
        "    konto_a = konto_a + 1\n",
        "    konto_b = konto_b - 1\n",
        "    historia_b.append(konto_b)\n",
        "    historia_a.append(konto_a)\n",
        "    if symbol_a == 'kamien':\n",
        "      kamien_prob = kamien_prob + 0.05\n",
        "      papier_prob = papier_prob - 0.025\n",
        "      nozyce_prob = nozyce_prob - 0.025\n",
        "    if symbol_a == 'nozyce':\n",
        "      kamien_prob = kamien_prob - 0.025\n",
        "      papier_prob = papier_prob - 0.025\n",
        "      nozyce_prob = nozyce_prob + 0.05\n",
        "    if symbol_a == 'papier':\n",
        "      kamien_prob = kamien_prob - 0.025\n",
        "      papier_prob = papier_prob + 0.05\n",
        "      nozyce_prob = nozyce_prob - 0.025\n",
        "  if wynik == 'b':\n",
        "    konto_a = konto_a - 1\n",
        "    konto_b = konto_b + 1\n",
        "    historia_b.append(konto_b)\n",
        "    historia_a.append(konto_a)\n",
        "    if symbol_a == 'kamien':\n",
        "      kamien_prob = kamien_prob - 0.05\n",
        "      papier_prob = papier_prob + 0.025\n",
        "      nozyce_prob = nozyce_prob + 0.025\n",
        "    if symbol_a == 'nozyce':\n",
        "      kamien_prob = kamien_prob + 0.025\n",
        "      papier_prob = papier_prob + 0.025\n",
        "      nozyce_prob = nozyce_prob - 0.05\n",
        "    if symbol_a == 'papier':\n",
        "      kamien_prob = kamien_prob + 0.025\n",
        "      papier_prob = papier_prob - 0.05\n",
        "      nozyce_prob = nozyce_prob + 0.025\n",
        "\n",
        "  print('Wynik a: ', konto_a)\n",
        "  print('Wynik b: ', konto_b)\n",
        "  \n",
        "\n",
        "  print()\n",
        "  print('Prob nozyce: ', nozyce_prob)\n",
        "  print('Prob kamien: ', kamien_prob)\n",
        "  print('Prob papier: ', papier_prob)\n",
        "\n",
        "\n",
        "print('Historia A: ', historia_a)\n",
        "print('Historia B: ', historia_b)\n",
        "\n",
        "plt_A = np.array(historia_a)\n",
        "plt_B = np.array(historia_b)\n",
        "\n",
        "plt.plot(plt_A)\n",
        "plt.plot(plt_B)\n",
        "plt.legend([\"Wynik Komputera\", \"Twoj wynik\"], loc =\"lower right\")\n",
        "plt.show()\n",
        "  \n",
        "\n",
        "  "
      ],
      "metadata": {
        "colab": {
          "base_uri": "https://localhost:8080/",
          "height": 1000
        },
        "id": "X3wqsGLs8jei",
        "outputId": "a9a6bd39-0f89-4308-efc8-c86ea0485f56"
      },
      "execution_count": null,
      "outputs": [
        {
          "output_type": "stream",
          "name": "stdout",
          "text": [
            "Enter kamien papier or nozyce: papier\n",
            "A:  nozyce\n",
            "B:  papier\n",
            "Wynik:  a\n",
            "Wynik a:  1\n",
            "Wynik b:  -1\n",
            "\n",
            "Prob nozyce:  0.3833333333333333\n",
            "Prob kamien:  0.3083333333333333\n",
            "Prob papier:  0.3083333333333333\n",
            "Enter kamien papier or nozyce: kamien\n",
            "A:  nozyce\n",
            "B:  kamien\n",
            "Wynik:  b\n",
            "Wynik a:  0\n",
            "Wynik b:  0\n",
            "\n",
            "Prob nozyce:  0.3333333333333333\n",
            "Prob kamien:  0.3333333333333333\n",
            "Prob papier:  0.3333333333333333\n",
            "Enter kamien papier or nozyce: papier\n",
            "A:  kamien\n",
            "B:  papier\n",
            "Wynik:  a\n",
            "Wynik a:  1\n",
            "Wynik b:  -1\n",
            "\n",
            "Prob nozyce:  0.3083333333333333\n",
            "Prob kamien:  0.3833333333333333\n",
            "Prob papier:  0.3083333333333333\n",
            "Enter kamien papier or nozyce: nozyce\n",
            "A:  papier\n",
            "B:  nozyce\n",
            "Wynik:  b\n",
            "Wynik a:  0\n",
            "Wynik b:  0\n",
            "\n",
            "Prob nozyce:  0.3333333333333333\n",
            "Prob kamien:  0.4083333333333333\n",
            "Prob papier:  0.2583333333333333\n",
            "Enter kamien papier or nozyce: kamien\n",
            "A:  kamien\n",
            "B:  kamien\n",
            "Wynik:  remis\n",
            "Wynik a:  0\n",
            "Wynik b:  0\n",
            "\n",
            "Prob nozyce:  0.3333333333333333\n",
            "Prob kamien:  0.4083333333333333\n",
            "Prob papier:  0.2583333333333333\n",
            "Historia A:  [0, 1, 0, 1, 0]\n",
            "Historia B:  [0, -1, 0, -1, 0]\n"
          ]
        },
        {
          "output_type": "display_data",
          "data": {
            "text/plain": [
              "<Figure size 432x288 with 1 Axes>"
            ],
            "image/png": "[encoded data removed]"
          },
          "metadata": {
            "needs_background": "light"
          }
        }
      ]
    }
  ]
}