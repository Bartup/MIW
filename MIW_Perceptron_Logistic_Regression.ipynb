{
  "cells": [
    {
      "cell_type": "markdown",
      "metadata": {
        "id": "view-in-github",
        "colab_type": "text"
      },
      "source": [
        "<a href=\"https://colab.research.google.com/github/Bartup/MIW/blob/main/MIW_Perceptron_Logistic_Regression.ipynb\" target=\"_parent\"><img src=\"https://colab.research.google.com/assets/colab-badge.svg\" alt=\"Open In Colab\"/></a>"
      ]
    },
    {
      "cell_type": "markdown",
      "metadata": {
        "id": "qHiLnNMqkD_q"
      },
      "source": [
        "#Zadania klasyfikacji - perceptron, regresja logistyczna\n",
        "\n",
        "\n",
        "Proszę nie używać dostępnych w bibliotekach klasyfikatorów.\n"
      ]
    },
    {
      "cell_type": "markdown",
      "metadata": {
        "id": "QVVFcRumljah"
      },
      "source": [
        "## plot_decision_regions"
      ]
    },
    {
      "cell_type": "code",
      "execution_count": null,
      "metadata": {
        "id": "G9M07Y_5lP9c"
      },
      "outputs": [],
      "source": [
        "from matplotlib.colors import ListedColormap\n",
        "import matplotlib.pyplot as plt\n",
        "import numpy as np\n",
        "\n",
        "\n",
        "def plot_decision_regions(X, y, classifier, test_idx=None, resolution=0.02):\n",
        "        # konfiguruje generator znaczników i mapę kolorów\n",
        "        markers = ('s', 'x', 'o', '^', 'v')\n",
        "        colors = ('red', 'blue', 'lightgreen', 'gray', 'cyan')\n",
        "        cmap = ListedColormap(colors[:len(np.unique(y))])\n",
        "\n",
        "        # rysuje wykres powierzchni decyzyjnej\n",
        "        x1_min, x1_max = X[:, 0].min() - 1, X[:, 0].max() + 1\n",
        "        x2_min, x2_max = X[:, 1].min() - 1, X[:, 1].max() + 1\n",
        "        xx1, xx2 = np.meshgrid(np.arange(x1_min, x1_max, resolution), np.arange(x2_min, x2_max, resolution))\n",
        "        Z = classifier.predict(np.array([xx1.ravel(), xx2.ravel()]).T)\n",
        "        Z = Z.reshape(xx1.shape)\n",
        "        plt.contourf(xx1, xx2, Z, alpha=0.3, cmap=cmap)\n",
        "        plt.xlim(xx1.min(), xx1.max())\n",
        "        plt.ylim(xx2.min(), xx2.max())\n",
        "\n",
        "        # rysuje wykres wszystkich próbek\n",
        "        for idx, cl in enumerate(np.unique(y)):\n",
        "            plt.scatter(x=X[y == cl, 0], y=X[y == cl, 1], alpha=0.8, c=cmap(idx), marker=markers[idx], label=cl, edgecolor='black')\n"
      ]
    },
    {
      "cell_type": "markdown",
      "metadata": {
        "id": "Z6Mz60W_kHs9"
      },
      "source": [
        "##1. Używając perceptronów napisz klasyfikator wielo-klasowy (klasyfikujący 3 lub więcej klas). Dla każdej z klas użyj klasyfikatora binarnego. Przykład klasyfikatora binarnego znajduje się poniżej."
      ]
    },
    {
      "cell_type": "code",
      "execution_count": null,
      "metadata": {
        "id": "RjZX4wn8ka9M"
      },
      "outputs": [],
      "source": [
        "import matplotlib.pyplot as plt\n",
        "import numpy as np\n",
        "from sklearn.model_selection import train_test_split\n",
        "from sklearn import datasets\n",
        "\n",
        "class Perceptron(object):\n",
        "\n",
        "    # Konstruktor, podajemy współczynik uczenia sie oraz ilość epok\n",
        "    def __init__(self, eta=0.01, n_iter=10):\n",
        "        self.eta = eta\n",
        "        self.n_iter = n_iter\n",
        "\n",
        "    def fit(self, X, y):\n",
        "        self.w_ = np.zeros(1+ X.shape[1])\n",
        "        self.errors_ = []\n",
        "\n",
        "        for _ in range(self.n_iter):\n",
        "            errors = 0\n",
        "            for xi, target in zip(X,y):\n",
        "                update = self.eta * (target - self.predict(xi))\n",
        "                self.w_[1:] += update *xi\n",
        "                self.w_[0] += update\n",
        "                errors += int(update != 0.0)\n",
        "            self.errors_.append(errors)\n",
        "        return self\n",
        "\n",
        "    def net_input(self, X):\n",
        "        return np.dot(X, self.w_[1:]) + self.w_[0]\n",
        "\n",
        "    def predict(self, X):\n",
        "        return np.where(self.net_input(X) >= 0.0, 1, -1)"
      ]
    },
    {
      "cell_type": "code",
      "execution_count": null,
      "metadata": {
        "colab": {
          "base_uri": "https://localhost:8080/",
          "height": 541
        },
        "id": "xSJJiLimV7yb",
        "outputId": "9ea8dd4d-c612-437b-e871-12c369b02803"
      },
      "outputs": [
        {
          "output_type": "stream",
          "name": "stderr",
          "text": [
            "<ipython-input-1-6ca3de109d61>:24: UserWarning: *c* argument looks like a single numeric RGB or RGBA sequence, which should be avoided as value-mapping will have precedence in case its length matches with *x* & *y*.  Please use the *color* keyword-argument or provide a 2D array with a single row if you intend to specify the same RGB or RGBA value for all points.\n",
            "  plt.scatter(x=X[y == cl, 0], y=X[y == cl, 1], alpha=0.8, c=cmap(idx), marker=markers[idx], label=cl, edgecolor='black')\n",
            "<ipython-input-1-6ca3de109d61>:24: UserWarning: You passed a edgecolor/edgecolors ('black') for an unfilled marker ('x').  Matplotlib is ignoring the edgecolor in favor of the facecolor.  This behavior may change in the future.\n",
            "  plt.scatter(x=X[y == cl, 0], y=X[y == cl, 1], alpha=0.8, c=cmap(idx), marker=markers[idx], label=cl, edgecolor='black')\n"
          ]
        },
        {
          "output_type": "display_data",
          "data": {
            "text/plain": [
              "<Figure size 640x480 with 1 Axes>"
            ],
            "image/png": "[encoded data removed]"
          },
          "metadata": {}
        }
      ],
      "source": [
        "class ChainedPerceptron:\n",
        "    def __init__(self, ppn1, ppn2):\n",
        "        self.ppn1 = ppn1\n",
        "        self.ppn2 = ppn2\n",
        "\n",
        "    def predict(self, X):\n",
        "        pred1 = self.ppn1.predict(X)\n",
        "        pred2 = self.ppn2.predict(X)\n",
        "        pred1[pred1 == 1] = 0\n",
        "        pred1[pred1 == -1] = 1\n",
        "        \n",
        "        pred2[pred2 == 1] = 0\n",
        "        pred2[pred2 == -1] = 1\n",
        "        return pred1 + pred2\n",
        "\n",
        "def main():\n",
        "    iris = datasets.load_iris()\n",
        "    X = iris.data[:, [2, 3]]\n",
        "    y = iris.target\n",
        "    # podział danych na testowe i treningowe\n",
        "    X_train, X_test, y_train, y_test = train_test_split(X, y, test_size=0.3, random_state=1, stratify=y)\n",
        "\n",
        "\n",
        "    X_train_01 = np.copy(X_train)\n",
        "    y_train_01 = np.copy(y_train)\n",
        "    \n",
        "    X_train_02 = np.copy(X_train)\n",
        "    y_train_02 = np.copy(y_train)\n",
        "\n",
        "    # w perceptronie wyjście jest albo 1 albo -1    \n",
        "    y_train_01[(y_train != 0)] = -1\n",
        "    y_train_01[(y_train == 0)] = 1\n",
        "    \n",
        "    y_train_02[(y_train == 2)] = -1\n",
        "    y_train_02[(y_train != 2)] = 1\n",
        "\n",
        "    ppn1 = Perceptron(eta=0.1, n_iter=600)\n",
        "    ppn2 = Perceptron(eta=0.1, n_iter=600)\n",
        "    # uczenie modelu\n",
        "    ppn1.fit(X_train_01, y_train_01)\n",
        "    ppn2.fit(X_train_02, y_train_02)\n",
        "\n",
        "    # wyświetla wykres\n",
        "    plot_decision_regions(X=X_train, y=y_train, classifier=ChainedPerceptron(ppn1, ppn2))\n",
        "    plt.xlabel(r'$x_1$')\n",
        "    plt.ylabel(r'$x_2$')\n",
        "    plt.legend(loc='upper left')\n",
        "    plt.show()\n",
        "    \n",
        "\n",
        "if __name__ == '__main__':\n",
        "    main()"
      ]
    },
    {
      "cell_type": "markdown",
      "metadata": {
        "id": "da76RT4AkMY4"
      },
      "source": [
        "##2. Napisz klasyfikator wielo-klasowy przy użyciu regresji logistycznej. Dla każdej z klas użyj klasyfikatora binarnego. Przykład regresji logistycznej dla przypadku dwuklasowego znajduje się poniżej."
      ]
    },
    {
      "cell_type": "code",
      "execution_count": null,
      "metadata": {
        "id": "t1xDlUgnlCxL"
      },
      "outputs": [],
      "source": [
        "import numpy as np\n",
        "import matplotlib.pylab as plt\n",
        "from sklearn import datasets\n",
        "from sklearn.model_selection import train_test_split\n",
        "\n",
        "\n",
        "class LogisticRegressionGD(object):\n",
        "    def __init__(self, eta=0.05, n_iter=600, random_state=1):\n",
        "        self.eta = eta\n",
        "        self.n_iter = n_iter\n",
        "        self.random_state = random_state\n",
        "\n",
        "    def fit(self, X, y):\n",
        "        rgen = np.random.RandomState(self.random_state)\n",
        "        self.w_ = rgen.normal(loc=0.0, scale=0.01, size=1 + X.shape[1])\n",
        "        self.cost_ = []\n",
        "\n",
        "        for i in range(self.n_iter):\n",
        "            net_input = self.net_input(X)\n",
        "            output = self.activation(net_input)\n",
        "            errors = (y - output)\n",
        "            self.w_[1:] += self.eta * X.T.dot(errors)\n",
        "            self.w_[0] += self.eta * errors.sum()\n",
        "            cost = (-y.dot(np.log(output)) - ((1 - y).dot(np.log(1 - output))))\n",
        "            self.cost_.append(cost)\n",
        "        return self\n",
        "\n",
        "    def net_input(self, X):\n",
        "        return np.dot(X, self.w_[1:]) + self.w_[0]\n",
        "\n",
        "    def activation(self, z):\n",
        "        return 1. / (1. + np.exp(-np.clip(z, -250, 250)))\n",
        "\n",
        "    def predict(self, X):\n",
        "        return np.where(self.net_input(X) >= 0.0, 1, 0)"
      ]
    },
    {
      "cell_type": "code",
      "execution_count": null,
      "metadata": {
        "colab": {
          "base_uri": "https://localhost:8080/",
          "height": 577
        },
        "id": "NGTTBL4QWl0L",
        "outputId": "a983f2f7-79ee-4990-d0d8-458e3c8f623a"
      },
      "outputs": [
        {
          "output_type": "stream",
          "name": "stderr",
          "text": [
            "<ipython-input-4-bc51ad084d24>:24: RuntimeWarning: divide by zero encountered in log\n",
            "  cost = (-y.dot(np.log(output)) - ((1 - y).dot(np.log(1 - output))))\n",
            "<ipython-input-1-6ca3de109d61>:24: UserWarning: *c* argument looks like a single numeric RGB or RGBA sequence, which should be avoided as value-mapping will have precedence in case its length matches with *x* & *y*.  Please use the *color* keyword-argument or provide a 2D array with a single row if you intend to specify the same RGB or RGBA value for all points.\n",
            "  plt.scatter(x=X[y == cl, 0], y=X[y == cl, 1], alpha=0.8, c=cmap(idx), marker=markers[idx], label=cl, edgecolor='black')\n",
            "<ipython-input-1-6ca3de109d61>:24: UserWarning: You passed a edgecolor/edgecolors ('black') for an unfilled marker ('x').  Matplotlib is ignoring the edgecolor in favor of the facecolor.  This behavior may change in the future.\n",
            "  plt.scatter(x=X[y == cl, 0], y=X[y == cl, 1], alpha=0.8, c=cmap(idx), marker=markers[idx], label=cl, edgecolor='black')\n"
          ]
        },
        {
          "output_type": "display_data",
          "data": {
            "text/plain": [
              "<Figure size 640x480 with 1 Axes>"
            ],
            "image/png": "[encoded data removed]"
          },
          "metadata": {}
        }
      ],
      "source": [
        "class ChainedLR:\n",
        "    def __init__(self, lrgd1, lrgd2):\n",
        "        self.lrgd1 = lrgd1\n",
        "        self.lrgd2 = lrgd2\n",
        "\n",
        "    def predict(self, X):\n",
        "        pred1 = self.lrgd1.predict(X)\n",
        "        pred2 = self.lrgd2.predict(X)\n",
        "        return pred1 + pred2\n",
        "\n",
        "def main():\n",
        "    iris = datasets.load_iris()\n",
        "    X = iris.data[:, [2, 3]]\n",
        "    y = iris.target\n",
        "    X_train, X_test, y_train, y_test = train_test_split(X, y, test_size=0.3, random_state=1, stratify=y)\n",
        "    \n",
        "    X_train_01 = np.copy(X_train)\n",
        "    y_train_01 = np.copy(y_train)\n",
        "    \n",
        "    X_train_02 = np.copy(X_train)\n",
        "    y_train_02 = np.copy(y_train)\n",
        "    \n",
        "    y_train_01[(y_train != 0)] = 1\n",
        "    \n",
        "    y_train_02[(y_train != 2)] = 0\n",
        "    y_train_02[(y_train == 2)] = 1\n",
        "    \n",
        "\n",
        "    lrgd1 = LogisticRegressionGD(eta=0.05, n_iter=20000, random_state=1)\n",
        "    lrgd2 = LogisticRegressionGD(eta=0.05, n_iter=20000, random_state=1)\n",
        "    # uczenie modelu\n",
        "    lrgd1.fit(X_train_01, y_train_01)\n",
        "    lrgd2.fit(X_train_02, y_train_02)\n",
        "\n",
        "    plot_decision_regions(X=X_train_01, y=y_train, classifier=ChainedLR(lrgd1, lrgd2))\n",
        "    plt.xlabel(r'$x_1$')\n",
        "    plt.ylabel(r'$x_2$')\n",
        "    plt.legend(loc='upper left')\n",
        "    plt.show()\n",
        "\n",
        "\n",
        "if __name__ == '__main__':\n",
        "    main()"
      ]
    },
    {
      "cell_type": "markdown",
      "metadata": {
        "id": "uGyNbcE1kRbA"
      },
      "source": [
        "##3. Dla regresji logistycznej napisz metodę wypisującą prawdopodobieństwo przynależności próbki (próbek) do danej klasy (klas)."
      ]
    },
    {
      "cell_type": "code",
      "execution_count": null,
      "metadata": {
        "id": "htt4Kht-i2pO"
      },
      "outputs": [],
      "source": []
    },
    {
      "cell_type": "markdown",
      "metadata": {
        "id": "HST-rwkQZeXi"
      },
      "source": [
        "# Program"
      ]
    },
    {
      "cell_type": "markdown",
      "metadata": {
        "id": "-Zhzx22zZhov"
      },
      "source": [
        "Perceptron dla 3 klas"
      ]
    },
    {
      "cell_type": "code",
      "execution_count": null,
      "metadata": {
        "colab": {
          "base_uri": "https://localhost:8080/"
        },
        "id": "wOaqVA1Vh95K",
        "outputId": "069049ef-d6dc-43f2-ed96-3e91f87eff7b"
      },
      "outputs": [
        {
          "output_type": "stream",
          "name": "stderr",
          "text": [
            "<ipython-input-4-bc51ad084d24>:24: RuntimeWarning: divide by zero encountered in log\n",
            "  cost = (-y.dot(np.log(output)) - ((1 - y).dot(np.log(1 - output))))\n"
          ]
        },
        {
          "output_type": "execute_result",
          "data": {
            "text/plain": [
              "array([[9.99987029e-01, 1.29705067e-05, 2.60388172e-30, 0.00000000e+00],\n",
              "       [9.99924465e-01, 7.55346581e-05, 1.44609074e-28, 0.00000000e+00],\n",
              "       [1.38333789e-13, 1.17897673e-08, 9.99999988e-01, 2.00000000e+00],\n",
              "       [7.30526750e-14, 1.43911083e-09, 9.99999999e-01, 2.00000000e+00],\n",
              "       [9.99995993e-01, 4.00697383e-06, 1.78884093e-31, 0.00000000e+00],\n",
              "       [9.99200722e-15, 4.17330615e-11, 1.00000000e+00, 2.00000000e+00],\n",
              "       [4.44089210e-16, 7.99360578e-15, 1.00000000e+00, 2.00000000e+00],\n",
              "       [9.99995993e-01, 4.00697383e-06, 1.78884093e-31, 0.00000000e+00],\n",
              "       [2.91633384e-12, 1.28337182e-06, 9.99998717e-01, 2.00000000e+00],\n",
              "       [4.36290294e-08, 9.99377626e-01, 6.22330248e-04, 1.00000000e+00],\n",
              "       [1.17295671e-03, 9.98827043e-01, 1.30440308e-13, 1.00000000e+00],\n",
              "       [1.13219417e-06, 9.99998599e-01, 2.69135077e-07, 1.00000000e+00],\n",
              "       [9.99992791e-01, 7.20920343e-06, 6.82490307e-31, 0.00000000e+00],\n",
              "       [5.70246598e-08, 9.99533003e-01, 4.66939585e-04, 1.00000000e+00],\n",
              "       [1.47981669e-06, 9.99998318e-01, 2.01902917e-07, 1.00000000e+00],\n",
              "       [1.36854972e-11, 1.14794207e-04, 9.99885206e-01, 2.00000000e+00],\n",
              "       [9.99755535e-01, 2.44465299e-04, 2.10496595e-27, 0.00000000e+00],\n",
              "       [3.62651797e-04, 9.99637348e-01, 1.89872183e-12, 1.00000000e+00],\n",
              "       [6.26090815e-06, 9.99993729e-01, 1.04055588e-08, 1.00000000e+00],\n",
              "       [9.99958016e-01, 4.19844699e-05, 3.79027553e-29, 0.00000000e+00],\n",
              "       [1.87428073e-10, 3.14078090e-02, 9.68592191e-01, 2.00000000e+00],\n",
              "       [0.00000000e+00, 0.00000000e+00, 1.00000000e+00, 2.00000000e+00],\n",
              "       [1.41947936e-08, 9.95796186e-01, 4.20379934e-03, 1.00000000e+00],\n",
              "       [7.84960318e-08, 9.99836731e-01, 1.63190783e-04, 1.00000000e+00],\n",
              "       [2.64886629e-05, 9.99973511e-01, 5.36275730e-10, 1.00000000e+00],\n",
              "       [9.99200722e-15, 4.17330615e-11, 1.00000000e+00, 2.00000000e+00],\n",
              "       [1.03120278e-08, 9.88061415e-01, 1.19385747e-02, 1.00000000e+00],\n",
              "       [5.22029087e-11, 4.82946187e-04, 9.99517054e-01, 2.00000000e+00],\n",
              "       [1.73194792e-14, 7.41544603e-11, 1.00000000e+00, 2.00000000e+00],\n",
              "       [1.90292226e-13, 3.37446477e-08, 9.99999966e-01, 2.00000000e+00],\n",
              "       [8.22500253e-07, 9.99998407e-01, 7.70312794e-07, 1.00000000e+00],\n",
              "       [9.99870968e-01, 1.29031976e-04, 2.56951422e-28, 0.00000000e+00],\n",
              "       [0.00000000e+00, 4.44089210e-16, 1.00000000e+00, 2.00000000e+00],\n",
              "       [2.46225262e-11, 4.37828909e-04, 9.99562171e-01, 2.00000000e+00],\n",
              "       [1.87428073e-10, 3.14078090e-02, 9.68592191e-01, 2.00000000e+00],\n",
              "       [1.31228362e-13, 5.49073742e-09, 9.99999995e-01, 2.00000000e+00],\n",
              "       [8.26695452e-08, 9.99923908e-01, 7.60088579e-05, 1.00000000e+00],\n",
              "       [4.44089210e-16, 1.06581410e-14, 1.00000000e+00, 2.00000000e+00],\n",
              "       [3.07132098e-12, 2.75563471e-06, 9.99997244e-01, 2.00000000e+00],\n",
              "       [9.99958016e-01, 4.19844699e-05, 3.79027553e-29, 0.00000000e+00],\n",
              "       [1.04174669e-10, 8.42745426e-03, 9.91572546e-01, 2.00000000e+00],\n",
              "       [9.99987029e-01, 1.29705067e-05, 2.60388172e-30, 0.00000000e+00],\n",
              "       [4.18500568e-10, 7.13252853e-02, 9.28674714e-01, 2.00000000e+00],\n",
              "       [9.98649622e-01, 1.35037750e-03, 5.44440074e-26, 0.00000000e+00],\n",
              "       [9.99998762e-01, 1.23786527e-06, 1.22891599e-32, 0.00000000e+00],\n",
              "       [1.35469147e-09, 5.27849366e-01, 4.72150633e-01, 1.00000000e+00],\n",
              "       [9.99976664e-01, 2.33359028e-05, 9.93450007e-30, 0.00000000e+00],\n",
              "       [9.99999053e-01, 9.47079303e-07, 9.21922585e-33, 0.00000000e+00],\n",
              "       [3.07132098e-12, 2.75563471e-06, 9.99997244e-01, 2.00000000e+00],\n",
              "       [4.38515313e-09, 9.42107596e-01, 5.78923994e-02, 1.00000000e+00],\n",
              "       [9.99822393e-01, 1.77607482e-04, 7.35441361e-28, 0.00000000e+00],\n",
              "       [3.62651797e-04, 9.99637348e-01, 1.89872183e-12, 1.00000000e+00],\n",
              "       [1.06957126e-05, 9.99989298e-01, 5.85611950e-09, 1.00000000e+00],\n",
              "       [9.99976664e-01, 2.33359028e-05, 9.93450007e-30, 0.00000000e+00],\n",
              "       [9.99976664e-01, 2.33359028e-05, 9.93450007e-30, 0.00000000e+00],\n",
              "       [9.99976664e-01, 2.33359028e-05, 9.93450007e-30, 0.00000000e+00],\n",
              "       [1.12060965e-04, 9.99887939e-01, 2.76382712e-11, 1.00000000e+00],\n",
              "       [2.22044605e-16, 9.99200722e-15, 1.00000000e+00, 2.00000000e+00],\n",
              "       [9.99983047e-01, 1.69528365e-05, 3.47095507e-30, 0.00000000e+00],\n",
              "       [1.35469147e-09, 5.27849366e-01, 4.72150633e-01, 1.00000000e+00],\n",
              "       [9.99992791e-01, 7.20920343e-06, 6.82490307e-31, 0.00000000e+00],\n",
              "       [6.03628547e-09, 9.78981646e-01, 2.10183476e-02, 1.00000000e+00],\n",
              "       [1.62980740e-13, 3.40862116e-09, 9.99999997e-01, 2.00000000e+00],\n",
              "       [9.99958016e-01, 4.19844699e-05, 3.79027553e-29, 0.00000000e+00],\n",
              "       [9.99987029e-01, 1.29705067e-05, 2.60388172e-30, 0.00000000e+00],\n",
              "       [3.32107804e-07, 9.99991256e-01, 8.41173499e-06, 1.00000000e+00],\n",
              "       [1.36854972e-11, 1.14794207e-04, 9.99885206e-01, 2.00000000e+00],\n",
              "       [1.55056683e-05, 9.99984493e-01, 9.52891870e-10, 1.00000000e+00],\n",
              "       [8.22500253e-07, 9.99998407e-01, 7.70312794e-07, 1.00000000e+00],\n",
              "       [1.87428073e-10, 3.14078090e-02, 9.68592191e-01, 2.00000000e+00],\n",
              "       [1.33226763e-15, 2.61346500e-13, 1.00000000e+00, 2.00000000e+00],\n",
              "       [1.41947936e-08, 9.95796186e-01, 4.20379934e-03, 1.00000000e+00],\n",
              "       [1.41947936e-08, 9.95796186e-01, 4.20379934e-03, 1.00000000e+00],\n",
              "       [4.24993374e-13, 7.99260289e-08, 9.99999920e-01, 2.00000000e+00],\n",
              "       [5.57331958e-14, 1.07960818e-09, 9.99999999e-01, 2.00000000e+00],\n",
              "       [1.85530894e-08, 9.96843011e-01, 3.15697069e-03, 1.00000000e+00],\n",
              "       [9.99870968e-01, 1.29031976e-04, 2.56951422e-28, 0.00000000e+00],\n",
              "       [9.99018635e-01, 9.81365154e-04, 1.90218634e-26, 0.00000000e+00],\n",
              "       [3.84137167e-14, 1.75641501e-10, 1.00000000e+00, 2.00000000e+00],\n",
              "       [1.77965864e-10, 1.48770839e-02, 9.85122916e-01, 2.00000000e+00],\n",
              "       [2.88657986e-15, 6.19060359e-13, 1.00000000e+00, 2.00000000e+00],\n",
              "       [7.52953699e-10, 2.26619743e-01, 7.73380256e-01, 2.00000000e+00],\n",
              "       [9.99976664e-01, 2.33359028e-05, 9.93450007e-30, 0.00000000e+00],\n",
              "       [4.57155589e-07, 9.99996604e-01, 2.93894145e-06, 1.00000000e+00],\n",
              "       [5.81978910e-12, 2.25739450e-05, 9.99977426e-01, 2.00000000e+00],\n",
              "       [4.44089210e-16, 3.81916720e-14, 1.00000000e+00, 2.00000000e+00],\n",
              "       [9.99945126e-01, 5.48744567e-05, 5.05240925e-29, 0.00000000e+00],\n",
              "       [9.99987029e-01, 1.29705067e-05, 2.60388172e-30, 0.00000000e+00],\n",
              "       [1.70707892e-12, 7.22266086e-07, 9.99999278e-01, 2.00000000e+00],\n",
              "       [9.99969499e-01, 3.05006190e-05, 1.32426151e-29, 0.00000000e+00],\n",
              "       [3.99680289e-15, 3.81872312e-12, 1.00000000e+00, 2.00000000e+00],\n",
              "       [1.47228871e-05, 9.99985275e-01, 2.04603428e-09, 1.00000000e+00],\n",
              "       [1.07503620e-06, 9.99998347e-01, 5.77882383e-07, 1.00000000e+00],\n",
              "       [2.54092564e-07, 9.99988533e-01, 1.12127491e-05, 1.00000000e+00],\n",
              "       [9.99990076e-01, 9.92364247e-06, 1.95341048e-30, 0.00000000e+00],\n",
              "       [2.48689958e-13, 4.49813702e-08, 9.99999955e-01, 2.00000000e+00],\n",
              "       [1.41227685e-07, 9.99957081e-01, 4.27782644e-05, 1.00000000e+00],\n",
              "       [9.99992791e-01, 7.20920343e-06, 6.82490307e-31, 0.00000000e+00],\n",
              "       [9.99969499e-01, 3.05006190e-05, 1.32426151e-29, 0.00000000e+00],\n",
              "       [1.36159972e-10, 1.12022974e-02, 9.88797702e-01, 2.00000000e+00],\n",
              "       [9.99983047e-01, 1.69528365e-05, 3.47095507e-30, 0.00000000e+00],\n",
              "       [3.47989688e-06, 9.99996480e-01, 3.96999682e-08, 1.00000000e+00],\n",
              "       [9.99767873e-01, 2.32126505e-04, 9.80337894e-28, 0.00000000e+00],\n",
              "       [9.99976664e-01, 2.33359028e-05, 9.93450007e-30, 0.00000000e+00],\n",
              "       [9.99992791e-01, 7.20920343e-06, 6.82490307e-31, 0.00000000e+00]])"
            ]
          },
          "metadata": {},
          "execution_count": 7
        }
      ],
      "source": [
        "iris = datasets.load_iris()\n",
        "X = iris.data[:, [2, 3]]\n",
        "y = iris.target\n",
        "X_train, X_test, y_train, y_test = train_test_split(X, y, test_size=0.3, random_state=1, stratify=y)\n",
        "\n",
        "\n",
        "X_train_01 = np.copy(X_train)\n",
        "y_train_01 = np.copy(y_train)\n",
        "\n",
        "X_train_02 = np.copy(X_train)\n",
        "y_train_02 = np.copy(y_train)\n",
        "\n",
        "y_train_01[(y_train != 0)] = 1\n",
        "\n",
        "y_train_02[(y_train != 2)] = 0\n",
        "y_train_02[(y_train == 2)] = 1\n",
        "\n",
        "lrgd1 = LogisticRegressionGD(eta=0.05, n_iter=30000, random_state=1)\n",
        "lrgd2 = LogisticRegressionGD(eta=0.05, n_iter=30000, random_state=1)\n",
        "\n",
        "lrgd1.fit(X_train_01, y_train_01)\n",
        "lrgd2.fit(X_train_02, y_train_02)\n",
        "\n",
        "def probabilities(X):\n",
        "    net1 = lrgd1.net_input(X)\n",
        "    net2 = lrgd2.net_input(X)\n",
        "    net1_act = lrgd1.activation(net1)\n",
        "    net2_act = lrgd2.activation(net2)\n",
        "    return np.array([\n",
        "            1 - net1_act,\n",
        "            np.abs(net1_act - net2_act),\n",
        "            net2_act,\n",
        "            ChainedLR(lrgd1, lrgd2).predict(X)\n",
        "        ]).T\n",
        "\n",
        "probabilities(X_train)"
      ]
    },
    {
      "cell_type": "code",
      "execution_count": null,
      "metadata": {
        "id": "HrJgEA3nh95K"
      },
      "outputs": [],
      "source": []
    }
  ],
  "metadata": {
    "colab": {
      "provenance": [],
      "include_colab_link": true
    },
    "kernelspec": {
      "display_name": "Python 3 (ipykernel)",
      "language": "python",
      "name": "python3"
    },
    "language_info": {
      "codemirror_mode": {
        "name": "ipython",
        "version": 3
      },
      "file_extension": ".py",
      "mimetype": "text/x-python",
      "name": "python",
      "nbconvert_exporter": "python",
      "pygments_lexer": "ipython3",
      "version": "3.10.9"
    }
  },
  "nbformat": 4,
  "nbformat_minor": 0
}