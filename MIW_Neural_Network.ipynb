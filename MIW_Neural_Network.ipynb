{
  "nbformat": 4,
  "nbformat_minor": 0,
  "metadata": {
    "colab": {
      "provenance": [],
      "authorship_tag": "ABX9TyOuwRprQwDSZTSpBHDinWjG",
      "include_colab_link": true
    },
    "kernelspec": {
      "name": "python3",
      "display_name": "Python 3"
    },
    "language_info": {
      "name": "python"
    }
  },
  "cells": [
    {
      "cell_type": "markdown",
      "metadata": {
        "id": "view-in-github",
        "colab_type": "text"
      },
      "source": [
        "<a href=\"https://colab.research.google.com/github/Bartup/MIW/blob/main/MIW_Neural_Network.ipynb\" target=\"_parent\"><img src=\"https://colab.research.google.com/assets/colab-badge.svg\" alt=\"Open In Colab\"/></a>"
      ]
    },
    {
      "cell_type": "code",
      "source": [
        "import matplotlib.pyplot as plt\n",
        "from sklearn.model_selection import train_test_split\n",
        "from sklearn import datasets\n",
        "from tensorflow.keras.utils import to_categorical\n",
        "import numpy as np\n",
        "import seaborn as sns"
      ],
      "metadata": {
        "id": "8heppLlZLQx0"
      },
      "execution_count": 1,
      "outputs": []
    },
    {
      "cell_type": "code",
      "source": [
        "iris = datasets.load_iris()\n",
        "X = iris.data\n",
        "y = iris.target\n",
        "y=to_categorical(y)\n",
        "\n",
        "#norm=np.linalg.norm(y)\n",
        "#y/=norm\n",
        "\n",
        "print(np.shape(X))\n",
        "print(np.shape(y))\n",
        "\n",
        "X_train, X_test, y_train, y_test = train_test_split(X, y, test_size=0.3)"
      ],
      "metadata": {
        "colab": {
          "base_uri": "https://localhost:8080/"
        },
        "id": "mrtnnvC6LUZV",
        "outputId": "08caec5e-0f93-4ac1-d138-c2570c9c2524"
      },
      "execution_count": null,
      "outputs": [
        {
          "output_type": "stream",
          "name": "stdout",
          "text": [
            "(150, 4)\n",
            "(150, 3)\n"
          ]
        }
      ]
    },
    {
      "cell_type": "code",
      "execution_count": null,
      "metadata": {
        "id": "P2KrAfNMJX0s"
      },
      "outputs": [],
      "source": [
        "np.random.seed(5)\n",
        "\n",
        "class NeuralNetwork:\n",
        "    def __init__(self, input_size, hidden_size, output_size):\n",
        "        self.input_size = input_size\n",
        "        self.hidden_size = hidden_size\n",
        "        self.output_size = output_size\n",
        "        \n",
        "        # Initialize weights randomly between -1 and 1\n",
        "        self.weights_ih = np.random.uniform(-1, 1, (self.hidden_size, self.input_size))\n",
        "        self.weights_ho = np.random.uniform(-1, 1, (self.output_size, self.hidden_size))\n",
        "        \n",
        "    def sigmoid(self, x):\n",
        "        return 1 / (1 + np.exp(-x))\n",
        "    \n",
        "    def sigmoid_derivative(self, x):\n",
        "        return x * (1 - x)\n",
        "        \n",
        "    def feedforward(self, inputs):\n",
        "        hidden = self.sigmoid(np.dot(self.weights_ih, inputs))\n",
        "        output = self.sigmoid(np.dot(self.weights_ho, hidden))\n",
        "        return output\n",
        "    \n",
        "    def train(self, inputs, targets, learning_rate):\n",
        "        # Feedforward\n",
        "        hidden = self.sigmoid(np.dot(self.weights_ih, inputs))\n",
        "        output = self.sigmoid(np.dot(self.weights_ho, hidden))\n",
        "        \n",
        "        # Backpropagation\n",
        "        output_error = targets - output\n",
        "        output_delta = output_error * self.sigmoid_derivative(output)\n",
        "        self.error_to_show = output_error\n",
        "        \n",
        "        hidden_error = np.dot(self.weights_ho.T, output_delta)\n",
        "        hidden_delta = hidden_error * self.sigmoid_derivative(hidden)\n",
        "        \n",
        "        # Update weights\n",
        "        self.weights_ho += learning_rate * np.outer(output_delta, hidden)\n",
        "        self.weights_ih += learning_rate * np.outer(hidden_delta, inputs)\n",
        "\n",
        "    def predict(self, inputs):\n",
        "        output = self.feedforward(inputs)\n",
        "        return np.argmax(output)"
      ]
    },
    {
      "cell_type": "code",
      "source": [],
      "metadata": {
        "id": "o4PaosoAY8Tn"
      },
      "execution_count": null,
      "outputs": []
    },
    {
      "cell_type": "code",
      "source": [
        "nn = NeuralNetwork(input_size=4, hidden_size=3, output_size=3)\n",
        "err = []\n",
        "inx = []\n",
        "\n",
        "for i in range(1000):\n",
        "  for index in range(len(X_train)):\n",
        "    nn.train(X_train[index], y_train[index], 0.01)\n",
        "    \n",
        "  err.append(min(abs(nn.error_to_show)))\n",
        "  inx.append(i)\n",
        "\n",
        "\n",
        "plt.scatter(inx, err)"
      ],
      "metadata": {
        "colab": {
          "base_uri": "https://localhost:8080/",
          "height": 448
        },
        "id": "gynGrgF8WCdf",
        "outputId": "c48cc577-b527-4c42-90fb-ae83107e75d4"
      },
      "execution_count": null,
      "outputs": [
        {
          "output_type": "execute_result",
          "data": {
            "text/plain": [
              "<matplotlib.collections.PathCollection at 0x7f4ee315bf70>"
            ]
          },
          "metadata": {},
          "execution_count": 78
        },
        {
          "output_type": "display_data",
          "data": {
            "text/plain": [
              "<Figure size 640x480 with 1 Axes>"
            ],
            "image/png": "[encoded data removed]"
          },
          "metadata": {}
        }
      ]
    },
    {
      "cell_type": "code",
      "source": [
        "epochs = [50,100,150,200,250,300,350,400,450,500,550,600,650,700,750,800,850,900,950,1000,1050,1100,1150,1200]\n",
        "#epochs = [100, 200, 300]\n",
        "scores = []\n",
        "\n",
        "for epoch in epochs:\n",
        "  nn = NeuralNetwork(input_size=4, hidden_size=3, output_size=3)\n",
        "\n",
        "  for i in range(epoch):\n",
        "    for index in range(len(X_train)):\n",
        "      nn.train(X_train[index], y_train[index], 0.01)\n",
        "  \n",
        "\n",
        "  accuracy = 0\n",
        "  for index in range(len(X_test)):\n",
        "    predicted_class = nn.predict(X_test[index])\n",
        "    actual_class = np.argmax(y_test[index])\n",
        "    if predicted_class == actual_class:\n",
        "      accuracy = accuracy + 1\n",
        "\n",
        "  scores.append(accuracy/len(X_test))"
      ],
      "metadata": {
        "id": "6mc-_tXQNz3O"
      },
      "execution_count": null,
      "outputs": []
    },
    {
      "cell_type": "code",
      "source": [
        "#sns.scatterplot(x=epochs, y=scores)\n",
        "plt.scatter(epochs, scores)"
      ],
      "metadata": {
        "colab": {
          "base_uri": "https://localhost:8080/",
          "height": 448
        },
        "id": "NbdGa2nAO6hH",
        "outputId": "4446ec01-64ae-4482-ec1e-76a8348ea138"
      },
      "execution_count": null,
      "outputs": [
        {
          "output_type": "execute_result",
          "data": {
            "text/plain": [
              "<matplotlib.collections.PathCollection at 0x7f4edfad4df0>"
            ]
          },
          "metadata": {},
          "execution_count": 88
        },
        {
          "output_type": "display_data",
          "data": {
            "text/plain": [
              "<Figure size 640x480 with 1 Axes>"
            ],
            "image/png": "[encoded data removed]"
          },
          "metadata": {}
        }
      ]
    },
    {
      "cell_type": "code",
      "source": [],
      "metadata": {
        "id": "ExF3XwwcS37U"
      },
      "execution_count": null,
      "outputs": []
    },
    {
      "cell_type": "markdown",
      "source": [
        "#################################"
      ],
      "metadata": {
        "id": "9ljVFoeXS4ol"
      }
    },
    {
      "cell_type": "markdown",
      "source": [
        "Liniowa funkcja aktywacji\n"
      ],
      "metadata": {
        "id": "Ivfe7qewvnQn"
      }
    },
    {
      "cell_type": "code",
      "source": [
        "class NeuralNetworkLinear:\n",
        "    def __init__(self, input_size, hidden_size, output_size):\n",
        "        self.input_size = input_size\n",
        "        self.hidden_size = hidden_size\n",
        "        self.output_size = output_size\n",
        "        \n",
        "        # Initialize weights randomly between -1 and 1\n",
        "        self.weights_ih = np.random.uniform(-1, 1, (self.hidden_size, self.input_size))\n",
        "        self.weights_ho = np.random.uniform(-1, 1, (self.output_size, self.hidden_size))\n",
        "        \n",
        "    def linear(self, x):\n",
        "        return 1 / (1 + np.exp(-x))\n",
        "    \n",
        "    def linear_derivative(self, x):\n",
        "        return x * (1 - x)\n",
        "        \n",
        "    def feedforward(self, inputs):\n",
        "        hidden = self.linear(np.dot(self.weights_ih, inputs))\n",
        "        output = self.linear(np.dot(self.weights_ho, hidden))\n",
        "        return output\n",
        "    \n",
        "    def train(self, inputs, targets, learning_rate):\n",
        "        # Feedforward\n",
        "        hidden = self.linear(np.dot(self.weights_ih, inputs))\n",
        "        output = self.linear(np.dot(self.weights_ho, hidden))\n",
        "        \n",
        "        # Backpropagation\n",
        "        output_error = targets - output\n",
        "        output_delta = output_error * self.linear_derivative(output)\n",
        "        self.error_to_show = output_error\n",
        "        \n",
        "        hidden_error = np.dot(self.weights_ho.T, output_delta)\n",
        "        hidden_delta = hidden_error * self.linear_derivative(hidden)\n",
        "        \n",
        "        # Update weights\n",
        "        self.weights_ho += learning_rate * np.outer(output_delta, hidden)\n",
        "        self.weights_ih += learning_rate * np.outer(hidden_delta, inputs)\n",
        "\n",
        "    def predict(self, inputs):\n",
        "        output = self.feedforward(inputs)\n",
        "        return np.argmax(output)"
      ],
      "metadata": {
        "id": "HiuuK8OMvcWJ"
      },
      "execution_count": null,
      "outputs": []
    },
    {
      "cell_type": "code",
      "source": [
        "nn = NeuralNetworkLinear(input_size=4, hidden_size=3, output_size=3)\n",
        "err = []\n",
        "inx = []\n",
        "\n",
        "for i in range(1000):\n",
        "  for index in range(len(X_train)):\n",
        "    nn.train(X_train[index], y_train[index], 0.01)\n",
        "    \n",
        "  err.append(min(abs(nn.error_to_show)))\n",
        "  inx.append(i)\n",
        "\n",
        "\n",
        "plt.scatter(inx, err)"
      ],
      "metadata": {
        "colab": {
          "base_uri": "https://localhost:8080/",
          "height": 448
        },
        "id": "83yyquWhv7Ph",
        "outputId": "8a9243bd-dfa4-418c-94fe-84349e8bd112"
      },
      "execution_count": null,
      "outputs": [
        {
          "output_type": "execute_result",
          "data": {
            "text/plain": [
              "<matplotlib.collections.PathCollection at 0x7f4edfa1e490>"
            ]
          },
          "metadata": {},
          "execution_count": 90
        },
        {
          "output_type": "display_data",
          "data": {
            "text/plain": [
              "<Figure size 640x480 with 1 Axes>"
            ],
            "image/png": "[encoded data removed]"
          },
          "metadata": {}
        }
      ]
    },
    {
      "cell_type": "code",
      "source": [
        "epochs = [50,100,150,200,250,300,350,400,450,500,550,600,650,700,750,800,850,900,950,1000,1050,1100,1150,1200]\n",
        "#epochs = [100, 200, 300]\n",
        "scores = []\n",
        "\n",
        "for epoch in epochs:\n",
        "  nn = NeuralNetworkLinear(input_size=4, hidden_size=3, output_size=3)\n",
        "\n",
        "  for i in range(epoch):\n",
        "    for index in range(len(X_train)):\n",
        "      nn.train(X_train[index], y_train[index], 0.01)\n",
        "  \n",
        "\n",
        "  accuracy = 0\n",
        "  for index in range(len(X_test)):\n",
        "    predicted_class = nn.predict(X_test[index])\n",
        "    actual_class = np.argmax(y_test[index])\n",
        "    if predicted_class == actual_class:\n",
        "      accuracy = accuracy + 1\n",
        "\n",
        "  scores.append(accuracy/len(X_test))\n",
        "\n",
        "plt.scatter(epochs, scores)"
      ],
      "metadata": {
        "colab": {
          "base_uri": "https://localhost:8080/",
          "height": 448
        },
        "id": "TeAxVdwRwICq",
        "outputId": "0d8d7627-43ba-4743-e469-a99b1a4e665a"
      },
      "execution_count": null,
      "outputs": [
        {
          "output_type": "execute_result",
          "data": {
            "text/plain": [
              "<matplotlib.collections.PathCollection at 0x7f4edf99e460>"
            ]
          },
          "metadata": {},
          "execution_count": 91
        },
        {
          "output_type": "display_data",
          "data": {
            "text/plain": [
              "<Figure size 640x480 with 1 Axes>"
            ],
            "image/png": "[encoded data removed]"
          },
          "metadata": {}
        }
      ]
    }
  ]
}